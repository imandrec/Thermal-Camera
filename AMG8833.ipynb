import numpy as np
import matplotlib.pyplot as plt
from scipy.interpolate import RectBivariateSpline

# Create a low-resolution image array with the provided pixel values
low_res_image = np.array([[22.5,22.5,22.5,22.3,22.5,21.5,21.5,21.0],
                          [22.3,24.0,23.0,22.0,22.0,22.5,22.0,21.8],
                          [22.5,22.8,22.3,22.8,22.0,22.5,22.0,22.3],
                          [22.0,22.3,22.0,22.3,21.8,22.0,22.0,21.5],
                          [22.0,21.8,22.0,21.5,21.5,21.5,20.8,20.5],
                          [21.3,21.8,21.3,22.3,21.8,21.8,21.3,21.0],
                          [21.8,22.0,21.5,21.8,22.3,20.8,20.5,20.0],
                          [20.5,21.0,21.3,21.0,21.5,21.0,20.0,20.3]])

# Define the coordinates of the low-resolution pixels
x = np.arange(0, 8)
y = np.arange(0, 8)

# Create a function that performs bilinear interpolation
interp_func = RectBivariateSpline(x, y, low_res_image)

# Define the coordinates of the high-resolution pixels
x_new = np.linspace(0, 7, 32)
y_new = np.linspace(0, 7, 32)

# Evaluate the interpolation function at the new coordinates
high_res_image = interp_func(x_new, y_new)

# Define the color map to use for the images
cmap = plt.cm.jet

# Plot the low-resolution and high-resolution images
fig, axs = plt.subplots(nrows=1, ncols=2, figsize=(10, 5))
axs[0].imshow(low_res_image, cmap=cmap)
axs[0].set_title('Low-resolution image')
axs[1].imshow(high_res_image, cmap=cmap)
axs[1].set_title('High-resolution image')
plt.show()
